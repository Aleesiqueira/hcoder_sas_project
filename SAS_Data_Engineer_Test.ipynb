{
  "nbformat": 4,
  "nbformat_minor": 0,
  "metadata": {
    "colab": {
      "name": "SAS - Data Engineer Test",
      "provenance": [],
      "collapsed_sections": [],
      "toc_visible": true
    },
    "kernelspec": {
      "display_name": "Python 3",
      "name": "python3"
    }
  },
  "cells": [
    {
      "cell_type": "markdown",
      "metadata": {
        "id": "CtTujjYSkd7z"
      },
      "source": [
        "# Setup PySpark"
      ]
    },
    {
      "cell_type": "code",
      "metadata": {
        "id": "4XrZSSMgjcVV"
      },
      "source": [
        "#!apt-get install openjdk-8-jdk-headless -qq > /dev/null\n",
        "#!wget -q http://www-eu.apache.org/dist/spark/spark-3.0.1/spark-3.0.1-bin-hadoop3.2.tgz\n",
        "#!tar xf spark-3.0.1-bin-hadoop3.2.tgz\n",
        "#!rm spark-3.0.1-bin-hadoop3.2.tgz\n",
        "#!pip install -q findspark\n",
        "#!pip install -q pyspark"
      ],
      "execution_count": 1,
      "outputs": []
    },
    {
      "cell_type": "code",
      "metadata": {
        "id": "iOfA0aHbkZML"
      },
      "source": [
        "import os\n",
        "\n",
        "os.environ[\"SPARK_HOME\"] = \"/content/spark-3.0.1-bin-hadoop3.2\"\n",
        "os.environ[\"JAVA_HOME\"] = \"/usr/lib/jvm/java-8-openjdk-amd64\"\n",
        "os.environ['PROJECT_ID'] = 'sas-project-296818'"
      ],
      "execution_count": 2,
      "outputs": []
    },
    {
      "cell_type": "code",
      "metadata": {
        "id": "qo6X8y9Kkc6t"
      },
      "source": [
        "import findspark\n",
        "findspark.init()\n",
        "from pyspark.sql import SparkSession\n",
        "spark = SparkSession.builder.master(\"local[*]\").getOrCreate()"
      ],
      "execution_count": 3,
      "outputs": []
    },
    {
      "cell_type": "code",
      "metadata": {
        "id": "qv6t7tZvolvJ"
      },
      "source": [
        "import json\n",
        "import pyspark.sql.functions as f"
      ],
      "execution_count": 4,
      "outputs": []
    },
    {
      "cell_type": "markdown",
      "metadata": {
        "id": "TEkLH8_o2Nek"
      },
      "source": [
        "#Setup BigQuery"
      ]
    },
    {
      "cell_type": "code",
      "metadata": {
        "id": "yUiGrN-f-SRV"
      },
      "source": [
        "#!pip install -q google-auth\n",
        "#!pip install -q --upgrade google-api-python-client\n",
        "#!pip install -q datalab"
      ],
      "execution_count": 5,
      "outputs": []
    },
    {
      "cell_type": "markdown",
      "metadata": {
        "id": "bBLL4k0q2DZS"
      },
      "source": [
        "Estabele conexão com o BigQuery"
      ]
    },
    {
      "cell_type": "code",
      "metadata": {
        "colab": {
          "base_uri": "https://localhost:8080/"
        },
        "id": "PVUxGuH6RU0c",
        "outputId": "a1b17b06-cb11-4f38-c235-823ecac520a7"
      },
      "source": [
        "from google.colab import auth\n",
        "auth.authenticate_user()\n",
        "print('Authenticated')"
      ],
      "execution_count": 6,
      "outputs": [
        {
          "output_type": "stream",
          "text": [
            "Authenticated\n"
          ],
          "name": "stdout"
        }
      ]
    },
    {
      "cell_type": "markdown",
      "metadata": {
        "id": "OyYLS3J3L4bd"
      },
      "source": [
        "#Desafio 1 - Criar schema"
      ]
    },
    {
      "cell_type": "markdown",
      "metadata": {
        "id": "YRvytgFm2JtZ"
      },
      "source": [
        "Cria schema das tabelas"
      ]
    },
    {
      "cell_type": "code",
      "metadata": {
        "colab": {
          "base_uri": "https://localhost:8080/"
        },
        "id": "wSeXk2ihRVfx",
        "outputId": "ade9badc-a3fe-46cc-a5ea-e44d60a115cb"
      },
      "source": [
        "from google.cloud import bigquery\n",
        "\n",
        "project_id = 'sas-project-296818'\n",
        "client = bigquery.Client(project=project_id)\n",
        "\n",
        "#for dataset in client.list_datasets():\n",
        "#  print(dataset.dataset_id)\n",
        "\n",
        "# Cria tbquestions\n",
        "client.query('''\n",
        "  DROP TABLE IF EXISTS `assesment_dataset.tbquestions`;\n",
        "  CREATE TABLE IF NOT EXISTS `assesment_dataset.tbquestions`\n",
        "  (id INT64\n",
        "  ,statement STRING\n",
        "  ,answer_key INT64\n",
        "  ,difficulty STRING\n",
        "  ,grade INT64\n",
        "  ,lecture INT64)\n",
        "''')  \n",
        "\n",
        "# Cria tboptions\n",
        "client.query('''\n",
        "  DROP TABLE IF EXISTS `assesment_dataset.tboptions`;\n",
        "  CREATE TABLE IF NOT EXISTS `assesment_dataset.tboptions`\n",
        "  (id_question INT64\n",
        "  ,id_option INT64\n",
        "  ,description STRING)\n",
        "''')\n",
        "\n",
        "# Cria tbproperty\n",
        "client.query('''\n",
        "  DROP TABLE IF EXISTS `assesment_dataset.tbproperty`;\n",
        "  CREATE TABLE IF NOT EXISTS `assesment_dataset.tbproperty`\n",
        "  (id_question INT64\n",
        "  ,id_property STRING\n",
        "  ,key STRING\n",
        "  ,value INT64)\n",
        "''')\n",
        "\n",
        "# Cria tbskill\n",
        "client.query('''\n",
        "  DROP TABLE IF EXISTS `assesment_dataset.tbskill`;\n",
        "  CREATE TABLE IF NOT EXISTS `assesment_dataset.tbskill`\n",
        "  (id_question INT64\n",
        "  ,id_skill INT64\n",
        "  ,name STRING\n",
        "  ,heading_topic STRING)\n",
        "''')\n"
      ],
      "execution_count": 7,
      "outputs": [
        {
          "output_type": "execute_result",
          "data": {
            "text/plain": [
              "<google.cloud.bigquery.job.QueryJob at 0x7fd898ad87f0>"
            ]
          },
          "metadata": {
            "tags": []
          },
          "execution_count": 7
        }
      ]
    },
    {
      "cell_type": "markdown",
      "metadata": {
        "id": "EbVTmMkzkzM0"
      },
      "source": [
        "# Importa JSON"
      ]
    },
    {
      "cell_type": "code",
      "metadata": {
        "id": "gRrScc0-9GXM"
      },
      "source": [
        "df_json_data = spark.read.json('data_question.json', multiLine=True)"
      ],
      "execution_count": 8,
      "outputs": []
    },
    {
      "cell_type": "code",
      "metadata": {
        "id": "y66MY-kwM2JB"
      },
      "source": [
        "#df_json_data.printSchema()"
      ],
      "execution_count": 10,
      "outputs": []
    },
    {
      "cell_type": "markdown",
      "metadata": {
        "id": "pG4iQqa4w6tb"
      },
      "source": [
        "#Popula tabela de questões"
      ]
    },
    {
      "cell_type": "markdown",
      "metadata": {
        "id": "wZT_aziV4HBU"
      },
      "source": [
        "Cria dataframe"
      ]
    },
    {
      "cell_type": "code",
      "metadata": {
        "id": "pfdp_iLSw56_"
      },
      "source": [
        "df_questions = df_json_data.select(f.col(\"id\")\n",
        "                                  ,f.col(\"statement\")\n",
        "                                  ,f.col(\"answer_key\")\n",
        "                                  ,f.col(\"difficulty\")\n",
        "                                  ,f.col(\"grade\")\n",
        "                                  ,f.col(\"lecture\"))\n",
        "\n",
        "#df_questions.show()"
      ],
      "execution_count": 11,
      "outputs": []
    },
    {
      "cell_type": "markdown",
      "metadata": {
        "id": "vx2N5PZP4Jl0"
      },
      "source": [
        "Insere dataframe com as questões no BigQuery"
      ]
    },
    {
      "cell_type": "code",
      "metadata": {
        "id": "YtsJ-4xV5thY",
        "colab": {
          "base_uri": "https://localhost:8080/"
        },
        "outputId": "ce537878-8e73-41ca-f980-e755d04ad2c9"
      },
      "source": [
        "import google.datalab.bigquery as bq\n",
        "\n",
        "bigquery_dataset_name = 'assesment_dataset'\n",
        "bigquery_table_name = 'tbquestions'\n",
        "\n",
        "# Define BigQuery dataset and table\n",
        "dataset = bq.Dataset(bigquery_dataset_name)\n",
        "table = bq.Table(bigquery_dataset_name + '.' + bigquery_table_name)\n",
        "\n",
        "# Write the DataFrame to a BigQuery table\n",
        "table.insert(df_questions.toPandas()) "
      ],
      "execution_count": 12,
      "outputs": [
        {
          "output_type": "execute_result",
          "data": {
            "text/plain": [
              "BigQuery Table - name: sas-project-296818.assesment_dataset.tbquestions"
            ]
          },
          "metadata": {
            "tags": []
          },
          "execution_count": 12
        }
      ]
    },
    {
      "cell_type": "markdown",
      "metadata": {
        "id": "Q02cn6EGlepX"
      },
      "source": [
        "#Popula tabela de opções"
      ]
    },
    {
      "cell_type": "markdown",
      "metadata": {
        "id": "qLfBN-koHdfR"
      },
      "source": [
        "Cria dataframe"
      ]
    },
    {
      "cell_type": "code",
      "metadata": {
        "id": "Kvkev7Wncr2M"
      },
      "source": [
        "df_options_exp = df_json_data.select(f.col(\"id\").alias(\"id_question\")\n",
        "                                    ,f.explode(\"options\").alias(\"options\"))\n",
        "\n",
        "df_options = df_options_exp.select(f.col(\"id_question\")\n",
        "                                  ,f.col(\"options.id\").alias(\"id_option\")\n",
        "                                  ,f.col(\"options.description\").alias(\"description\"))\n",
        "\n",
        "#df_options.show()"
      ],
      "execution_count": 13,
      "outputs": []
    },
    {
      "cell_type": "markdown",
      "metadata": {
        "id": "7z7LQF8jHfyL"
      },
      "source": [
        "Insere dataframe no BigQuery"
      ]
    },
    {
      "cell_type": "code",
      "metadata": {
        "colab": {
          "base_uri": "https://localhost:8080/"
        },
        "id": "BBCE2Ek1Hm04",
        "outputId": "e4080f81-2f89-4d38-d792-434eba625eeb"
      },
      "source": [
        "bigquery_dataset_name = 'assesment_dataset'\n",
        "bigquery_table_name = 'tboptions'\n",
        "\n",
        "# Define BigQuery dataset and table\n",
        "dataset = bq.Dataset(bigquery_dataset_name)\n",
        "table = bq.Table(bigquery_dataset_name + '.' + bigquery_table_name)\n",
        "\n",
        "# Write the DataFrame to a BigQuery table\n",
        "table.insert(df_options.toPandas()) "
      ],
      "execution_count": 14,
      "outputs": [
        {
          "output_type": "execute_result",
          "data": {
            "text/plain": [
              "BigQuery Table - name: sas-project-296818.assesment_dataset.tboptions"
            ]
          },
          "metadata": {
            "tags": []
          },
          "execution_count": 14
        }
      ]
    },
    {
      "cell_type": "markdown",
      "metadata": {
        "id": "dxEPGfbApbM6"
      },
      "source": [
        "#Popula tabela de propriedades"
      ]
    },
    {
      "cell_type": "markdown",
      "metadata": {
        "id": "pjARI-IMHq1M"
      },
      "source": [
        "Cria dataframe"
      ]
    },
    {
      "cell_type": "code",
      "metadata": {
        "id": "p8s_k6svg3gR"
      },
      "source": [
        "df_properties_exp = df_json_data.select(f.col(\"id\").alias(\"id_question\")\n",
        "                                       ,f.explode(\"properties\").alias(\"properties\"))\n",
        "\n",
        "df_properties = df_properties_exp.select(f.col(\"id_question\")\n",
        "                                        ,f.col(\"properties.id\").alias(\"id_property\")\n",
        "                                        ,f.col(\"properties.key\").alias(\"key\")\n",
        "                                        ,f.col(\"properties.value\").alias(\"value\"))\n",
        "\n",
        "#df_properties.show()"
      ],
      "execution_count": 15,
      "outputs": []
    },
    {
      "cell_type": "markdown",
      "metadata": {
        "id": "ZtwUx5RRHtSK"
      },
      "source": [
        "Insere dataframe no BigQuery"
      ]
    },
    {
      "cell_type": "code",
      "metadata": {
        "id": "SsaWLwBJHwKv",
        "colab": {
          "base_uri": "https://localhost:8080/"
        },
        "outputId": "e417d3bd-df87-43fa-e592-0b6fed45203f"
      },
      "source": [
        "bigquery_dataset_name = 'assesment_dataset'\n",
        "bigquery_table_name = 'tbproperty'\n",
        "\n",
        "# Define BigQuery dataset and table\n",
        "dataset = bq.Dataset(bigquery_dataset_name)\n",
        "table = bq.Table(bigquery_dataset_name + '.' + bigquery_table_name)\n",
        "\n",
        "# Write the DataFrame to a BigQuery table\n",
        "table.insert(df_properties.toPandas()) "
      ],
      "execution_count": 16,
      "outputs": [
        {
          "output_type": "execute_result",
          "data": {
            "text/plain": [
              "BigQuery Table - name: sas-project-296818.assesment_dataset.tbproperty"
            ]
          },
          "metadata": {
            "tags": []
          },
          "execution_count": 16
        }
      ]
    },
    {
      "cell_type": "markdown",
      "metadata": {
        "id": "NF4zqCw1phso"
      },
      "source": [
        "#Popula tabela de habilidades"
      ]
    },
    {
      "cell_type": "markdown",
      "metadata": {
        "id": "0xmFn17yH1us"
      },
      "source": [
        "Cria dataframe"
      ]
    },
    {
      "cell_type": "code",
      "metadata": {
        "id": "YtQpdYdinXKM"
      },
      "source": [
        "df_skill = df_json_data.select(f.col(\"id\").alias(\"id_question\")\n",
        "                              ,f.col(\"skill.code\").alias(\"id_skill\")\n",
        "                              ,f.col(\"skill.name\").alias(\"name\")\n",
        "                              ,f.col(\"skill.heading_topic.name\").alias(\"heading_topic\"))\n",
        "\n",
        "#df_skill.show()"
      ],
      "execution_count": 17,
      "outputs": []
    },
    {
      "cell_type": "markdown",
      "metadata": {
        "id": "CkV9EK6RH3tF"
      },
      "source": [
        "Insere dataframe no BigQuery"
      ]
    },
    {
      "cell_type": "code",
      "metadata": {
        "id": "9_ktoKPdH7ar",
        "colab": {
          "base_uri": "https://localhost:8080/"
        },
        "outputId": "23b692bd-7965-466c-be49-9414339130c0"
      },
      "source": [
        "bigquery_dataset_name = 'assesment_dataset'\n",
        "bigquery_table_name = 'tbskill'\n",
        "\n",
        "# Define BigQuery dataset and table\n",
        "dataset = bq.Dataset(bigquery_dataset_name)\n",
        "table = bq.Table(bigquery_dataset_name + '.' + bigquery_table_name)\n",
        "\n",
        "# Write the DataFrame to a BigQuery table\n",
        "table.insert(df_skill.toPandas()) "
      ],
      "execution_count": 18,
      "outputs": [
        {
          "output_type": "execute_result",
          "data": {
            "text/plain": [
              "BigQuery Table - name: sas-project-296818.assesment_dataset.tbskill"
            ]
          },
          "metadata": {
            "tags": []
          },
          "execution_count": 18
        }
      ]
    },
    {
      "cell_type": "markdown",
      "metadata": {
        "id": "VNBomNcd5LEc"
      },
      "source": [
        "#Desafio 2 - Tabela 1"
      ]
    },
    {
      "cell_type": "markdown",
      "metadata": {
        "id": "loUA8lP6fr7s"
      },
      "source": [
        "Busca todas as propriedades de cada questão"
      ]
    },
    {
      "cell_type": "code",
      "metadata": {
        "id": "_NfWuY7joA2u",
        "colab": {
          "base_uri": "https://localhost:8080/"
        },
        "outputId": "3139a463-f525-4fcd-a274-5f93f6da3650"
      },
      "source": [
        "df_questions.join(df_properties, df_questions.id == df_properties.id_question, \"inner\").drop(\"id_question\") \\\n",
        "            .select(f.col(\"id_property\").alias(\"property_id\"),\n",
        "                    f.col(\"key\").alias(\"property_name\"),\n",
        "                    f.col(\"id\").alias(\"question_id\"),\n",
        "                    f.col(\"statement\").alias(\"question_statement\")) \\\n",
        "            .show()"
      ],
      "execution_count": 20,
      "outputs": [
        {
          "output_type": "stream",
          "text": [
            "+--------------------+-------------+-----------+--------------------+\n",
            "|         property_id|property_name|question_id|  question_statement|\n",
            "+--------------------+-------------+-----------+--------------------+\n",
            "|8f24467f-f351-47a...|          THE|          0|Foreign while bas...|\n",
            "|52f7abf2-65b8-406...|          MAL|          0|Foreign while bas...|\n",
            "|cb6e4a29-d88f-45d...|          THE|          0|Foreign while bas...|\n",
            "|0e028c51-329e-4e7...|       FOUND.|          0|Foreign while bas...|\n",
            "|bc124a46-891c-4b0...|         2,00|          0|Foreign while bas...|\n",
            "|dd29752f-83ce-45d...|       THERÓN|          1|Machines designed...|\n",
            "|541ec6fe-9cc4-4f9...|         BROO|          1|Machines designed...|\n",
            "|ce09a035-f102-43a...|          OFT|          1|Machines designed...|\n",
            "|8c73eb74-b05e-4dc...|       LEAGEN|          1|Machines designed...|\n",
            "|c8e9917d-5545-477...|           OF|          1|Machines designed...|\n",
            "|0761cdc8-b9ef-43e...|         INED|          2|Esa to the predom...|\n",
            "|f539cf2d-d16c-4df...|       MODGES|          2|Esa to the predom...|\n",
            "|a8d363ee-ec89-41a...|          COR|          2|Esa to the predom...|\n",
            "|f406b48c-6536-42e...|       ROUNTE|          2|Esa to the predom...|\n",
            "|1a119667-fa72-4b0...|          EAS|          2|Esa to the predom...|\n",
            "|4d8d5899-493c-47c...|           KM|          3|The critique new ...|\n",
            "|a1e46a88-aa32-4ed...|        TORLD|          3|The critique new ...|\n",
            "|24df0b29-b1ee-4f8...|       INABLI|          3|The critique new ...|\n",
            "|c0dd2e0e-d4cb-4d8...|       WASUBL|          3|The critique new ...|\n",
            "|0bd19d39-83fc-48a...|       THABLI|          3|The critique new ...|\n",
            "+--------------------+-------------+-----------+--------------------+\n",
            "only showing top 20 rows\n",
            "\n"
          ],
          "name": "stdout"
        }
      ]
    },
    {
      "cell_type": "markdown",
      "metadata": {
        "id": "k7AD7oro48hh"
      },
      "source": [
        "#Desafio 2 - Tabela 2"
      ]
    },
    {
      "cell_type": "markdown",
      "metadata": {
        "id": "GB_7cSrbgEM4"
      },
      "source": [
        "Lê tabela de **Assesments** e suas dimensões  no BigQuery para relacionar com a tabela de propriedades"
      ]
    },
    {
      "cell_type": "code",
      "metadata": {
        "id": "SSpj0J-AgwND"
      },
      "source": [
        "df_assesment = client.query('''\n",
        "  SELECT * \n",
        "  FROM `assesment_dataset.tbassesment`\n",
        "''').to_dataframe()\n",
        "\n",
        "df_assesment_date = client.query('''\n",
        "  SELECT assesment_id\n",
        "      ,EXTRACT(YEAR FROM date) assesment_year\n",
        "  FROM `assesment_dataset.tbassesment_date`\n",
        "  GROUP BY assesment_id, EXTRACT(YEAR FROM date)\n",
        "''').to_dataframe()\n",
        "\n",
        "df_assesment_type = client.query('''\n",
        "  SELECT * \n",
        "  FROM `assesment_dataset.tbassesment_type`\n",
        "''').to_dataframe()"
      ],
      "execution_count": 87,
      "outputs": []
    },
    {
      "cell_type": "code",
      "metadata": {
        "id": "nK5SEZQ2abzn"
      },
      "source": [
        "df_assesment = spark.createDataFrame(df_assesment)\n",
        "df_assesment_date = spark.createDataFrame(df_assesment_date)\n",
        "df_assesment_type = spark.createDataFrame(df_assesment_type)"
      ],
      "execution_count": 88,
      "outputs": []
    },
    {
      "cell_type": "markdown",
      "metadata": {
        "id": "r8Oot_Epk6Wi"
      },
      "source": [
        "Resgata ano e tipo de cada Assesment"
      ]
    },
    {
      "cell_type": "code",
      "metadata": {
        "id": "0VvdNh4D7Gz6"
      },
      "source": [
        "#df_assesment_date = df_assesment_date.select(f.col(\"assesment_id\"), year(f.col(\"date\")).alias(\"assesment_year\")).groupBy(\"assesment_id\").max(\"assesment_year\")\n",
        "\n",
        "df_assesment_type = df_assesment_type.select(df_assesment_type.id,df_assesment_type.name.alias(\"assesment_type\"))\n",
        "\n",
        "df_assesment = df_assesment.join(df_assesment_type, df_assesment.assesment_type_id == df_assesment_type.id, \"left\").drop(df_assesment_type.id) \\\n",
        "                           .join(df_assesment_date, df_assesment.id == df_assesment_date.assesment_id, \"inner\").drop(\"assesment_id\") \\\n",
        "                           .select(f.col(\"id\"),\n",
        "                                   f.col(\"assesment_type\"),\n",
        "                                   f.col(\"name\"),\n",
        "                                   f.col(\"assesment_year\"))"
      ],
      "execution_count": 89,
      "outputs": []
    },
    {
      "cell_type": "code",
      "metadata": {
        "colab": {
          "base_uri": "https://localhost:8080/"
        },
        "id": "t8e-rCpSkrv8",
        "outputId": "a201413c-8358-4c6c-e206-1090c96c4142"
      },
      "source": [
        "df_assesment.show()"
      ],
      "execution_count": 90,
      "outputs": [
        {
          "output_type": "stream",
          "text": [
            "+---+--------------+-----------+--------------+\n",
            "| id|assesment_type|       name|assesment_year|\n",
            "+---+--------------+-----------+--------------+\n",
            "|  0|        TIPO 1|PROVA TESTE|          2017|\n",
            "|  0|        TIPO 1|PROVA TESTE|          2018|\n",
            "+---+--------------+-----------+--------------+\n",
            "\n"
          ],
          "name": "stdout"
        }
      ]
    },
    {
      "cell_type": "markdown",
      "metadata": {
        "id": "A9rns61blGz4"
      },
      "source": [
        "Retorna características e quantidade de cada propriedade das questões que caem em cada avaliação por ano."
      ]
    },
    {
      "cell_type": "code",
      "metadata": {
        "id": "O20Godz4HrQs",
        "colab": {
          "base_uri": "https://localhost:8080/"
        },
        "outputId": "0d2a0fb8-ed5c-4c5b-dfda-66b66648ba70"
      },
      "source": [
        "df_properties.join(df_assesment, df_properties.id_question % 7 == df_assesment.id, \"inner\").drop(\"id_question\") \\\n",
        "            .select(f.col(\"id_property\").alias(\"property_id\"),\n",
        "                    f.col(\"key\").alias(\"property_name\"),\n",
        "                    f.col(\"id\").alias(\"assesment_id\"),\n",
        "                    f.col(\"assesment_type\"),\n",
        "                    f.col(\"name\").alias(\"assesment_name\"),\n",
        "                    f.col(\"assesment_year\")) \\\n",
        "            .groupBy(\"property_id\",\"property_name\",\"assesment_id\",\"assesment_type\",\"assesment_name\",\"assesment_year\").agg(f.count(\"property_id\").alias(\"property_size\")) \\\n",
        "            .orderBy(\"assesment_id\",\"property_id\",\"assesment_year\") \\\n",
        "            .show()"
      ],
      "execution_count": 93,
      "outputs": [
        {
          "output_type": "stream",
          "text": [
            "+--------------------+-------------+------------+--------------+--------------+--------------+-------------+\n",
            "|         property_id|property_name|assesment_id|assesment_type|assesment_name|assesment_year|property_size|\n",
            "+--------------------+-------------+------------+--------------+--------------+--------------+-------------+\n",
            "|0030c029-aafd-465...|           IN|           0|        TIPO 1|   PROVA TESTE|          2017|            1|\n",
            "|0030c029-aafd-465...|           IN|           0|        TIPO 1|   PROVA TESTE|          2018|            1|\n",
            "|003e8cb0-ebbd-4dd...|           HE|           0|        TIPO 1|   PROVA TESTE|          2017|            1|\n",
            "|003e8cb0-ebbd-4dd...|           HE|           0|        TIPO 1|   PROVA TESTE|          2018|            1|\n",
            "|00414d6a-a7b1-440...|        VIKEY|           0|        TIPO 1|   PROVA TESTE|          2017|            1|\n",
            "|00414d6a-a7b1-440...|        VIKEY|           0|        TIPO 1|   PROVA TESTE|          2018|            1|\n",
            "|0042fbcd-ebf8-413...|       POOLDE|           0|        TIPO 1|   PROVA TESTE|          2017|            1|\n",
            "|0042fbcd-ebf8-413...|       POOLDE|           0|        TIPO 1|   PROVA TESTE|          2018|            1|\n",
            "|005e668d-31de-432...|        CONS,|           0|        TIPO 1|   PROVA TESTE|          2017|            1|\n",
            "|005e668d-31de-432...|        CONS,|           0|        TIPO 1|   PROVA TESTE|          2018|            1|\n",
            "|006713fa-b699-485...|           AS|           0|        TIPO 1|   PROVA TESTE|          2017|            1|\n",
            "|006713fa-b699-485...|           AS|           0|        TIPO 1|   PROVA TESTE|          2018|            1|\n",
            "|008129d1-84f4-4c0...|           AS|           0|        TIPO 1|   PROVA TESTE|          2017|            1|\n",
            "|008129d1-84f4-4c0...|           AS|           0|        TIPO 1|   PROVA TESTE|          2018|            1|\n",
            "|0132a7cd-1ccd-417...|         SKIN|           0|        TIPO 1|   PROVA TESTE|          2017|            1|\n",
            "|0132a7cd-1ccd-417...|         SKIN|           0|        TIPO 1|   PROVA TESTE|          2018|            1|\n",
            "|0141b2fa-a2e5-4ed...|          THE|           0|        TIPO 1|   PROVA TESTE|          2017|            1|\n",
            "|0141b2fa-a2e5-4ed...|          THE|           0|        TIPO 1|   PROVA TESTE|          2018|            1|\n",
            "|0158045f-d044-459...|         (THE|           0|        TIPO 1|   PROVA TESTE|          2017|            1|\n",
            "|0158045f-d044-459...|         (THE|           0|        TIPO 1|   PROVA TESTE|          2018|            1|\n",
            "+--------------------+-------------+------------+--------------+--------------+--------------+-------------+\n",
            "only showing top 20 rows\n",
            "\n"
          ],
          "name": "stdout"
        }
      ]
    }
  ]
}